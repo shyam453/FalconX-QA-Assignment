{
 "cells": [
  {
   "cell_type": "markdown",
   "metadata": {},
   "source": [
    "## FalconX Quantitative Analyst Intern Assignment\n",
    "### Shyam Iyer, IIT Bombay\n",
    "\n",
    "Description of the notebook:\n"
   ]
  },
  {
   "cell_type": "code",
   "execution_count": 12,
   "metadata": {},
   "outputs": [],
   "source": [
    "# Importing necessary packages\n",
    "\n",
    "import pandas as pd\n",
    "import requests\n",
    "import json\n",
    "import numpy as np"
   ]
  },
  {
   "cell_type": "code",
   "execution_count": 28,
   "metadata": {},
   "outputs": [],
   "source": [
    "#The actual query\n",
    "\n",
    "query = '''query trades{\n",
    "    swaps(where:{pair: \"0xd3d2e2692501a5c9ca623199d38826e513033a17\", timestamp_gt: 1623812554}, orderBy: timestamp, orderDirection: desc) {\n",
    "    id\n",
    "    timestamp\n",
    "    amount0In\n",
    "    amount1In\n",
    "    amount0Out\n",
    "    amount1Out\n",
    "    pair {\n",
    "      token0 {\n",
    "        symbol\n",
    "      }\n",
    "      token1 {\n",
    "        symbol\n",
    "      }\n",
    "      volumeUSD\n",
    "    }\n",
    "    transaction {\n",
    "      blockNumber\n",
    "    }\n",
    "  }\n",
    "}\n",
    "'''"
   ]
  },
  {
   "cell_type": "code",
   "execution_count": 29,
   "metadata": {},
   "outputs": [
    {
     "name": "stdout",
     "output_type": "stream",
     "text": [
      "200\n"
     ]
    }
   ],
   "source": [
    "#sending Query to Uniswap URL\n",
    "\n",
    "url = 'https://api.thegraph.com/subgraphs/name/uniswap/uniswap-v2'\n",
    "r = requests.post(url, json={'query': query})\n",
    "print(r.status_code)"
   ]
  },
  {
   "cell_type": "code",
   "execution_count": 33,
   "metadata": {},
   "outputs": [],
   "source": [
    "#Retrieving data as JSON\n",
    "\n",
    "json_data = json.loads(r.text)"
   ]
  },
  {
   "cell_type": "code",
   "execution_count": 34,
   "metadata": {},
   "outputs": [],
   "source": [
    "#Converting to DataFrame\n",
    "\n",
    "df_data = json_data['data']['swaps']\n",
    "df = pd.DataFrame(df_data)\n",
    "df['side'] = np.where(df.amount0Out=='0', 'Sell', 'Buy')"
   ]
  },
  {
   "cell_type": "code",
   "execution_count": 32,
   "metadata": {},
   "outputs": [
    {
     "name": "stdout",
     "output_type": "stream",
     "text": [
      "                amount0In               amount0Out             amount1In  \\\n",
      "0                      30                        0                     0   \n",
      "1                       0     5.546372447248362489                  0.05   \n",
      "2   759.80774558075333476                        0                     0   \n",
      "3                      30                        0                     0   \n",
      "4                      30                        0                     0   \n",
      "..                    ...                      ...                   ...   \n",
      "95                      0  1115.890426868306335826  9.753200937860375149   \n",
      "96                      0     5.114148266098449064           0.044677516   \n",
      "97                      0   493.331523907302815888  4.308975991822296687   \n",
      "98                     35                        0                     0   \n",
      "99          11.1914756174                        0                     0   \n",
      "\n",
      "              amount1Out                                                 id  \\\n",
      "0   0.268823923477353514  0x85ca92806c6e2f57155e97958ba32719ef3aab5b43c9...   \n",
      "1                      0  0x6d575967d503eefc006d9f4d5970cefa2b928c1c60b8...   \n",
      "2   6.810805649197774231  0x488a1e8991a6ce9fe44d4b4f03c7344b9694a2780c11...   \n",
      "3   0.269008395900146478  0x0ed954084519718e40d0571c2d5e33c373ed10108816...   \n",
      "4   0.269015456362153913  0xdac977d26867b4135a1387990bb6e24da82f0487c1b9...   \n",
      "..                   ...                                                ...   \n",
      "95                     0  0xa22fba2bbcacbfffab8e9c4b228e663c4f3f0c3a1e48...   \n",
      "96                     0  0xf41076cdcd1d1a936f41a00e08fcc0a2a0875c5c0ed2...   \n",
      "97                     0  0x8ffc82cc2e2b3b3ce869a763e885d4412b0a18c43941...   \n",
      "98  0.303934262105389659  0x23054a7c391911666adba1b62cf5c437058deec41ae1...   \n",
      "99  0.097145485525206876  0x4947e142e5a2fdcaa8249720557c5a75d8f2a364eea9...   \n",
      "\n",
      "                                                 pair   timestamp  \\\n",
      "0   {'token0': {'symbol': 'UNI'}, 'token1': {'symb...  1624418149   \n",
      "1   {'token0': {'symbol': 'UNI'}, 'token1': {'symb...  1624418121   \n",
      "2   {'token0': {'symbol': 'UNI'}, 'token1': {'symb...  1624417990   \n",
      "3   {'token0': {'symbol': 'UNI'}, 'token1': {'symb...  1624417738   \n",
      "4   {'token0': {'symbol': 'UNI'}, 'token1': {'symb...  1624417725   \n",
      "..                                                ...         ...   \n",
      "95  {'token0': {'symbol': 'UNI'}, 'token1': {'symb...  1624404739   \n",
      "96  {'token0': {'symbol': 'UNI'}, 'token1': {'symb...  1624404720   \n",
      "97  {'token0': {'symbol': 'UNI'}, 'token1': {'symb...  1624404720   \n",
      "98  {'token0': {'symbol': 'UNI'}, 'token1': {'symb...  1624404720   \n",
      "99  {'token0': {'symbol': 'UNI'}, 'token1': {'symb...  1624404685   \n",
      "\n",
      "                    transaction  side  \n",
      "0   {'blockNumber': '12687998'}  Sell  \n",
      "1   {'blockNumber': '12687992'}   Buy  \n",
      "2   {'blockNumber': '12687984'}  Sell  \n",
      "3   {'blockNumber': '12687965'}  Sell  \n",
      "4   {'blockNumber': '12687962'}  Sell  \n",
      "..                          ...   ...  \n",
      "95  {'blockNumber': '12686989'}   Buy  \n",
      "96  {'blockNumber': '12686988'}   Buy  \n",
      "97  {'blockNumber': '12686988'}   Buy  \n",
      "98  {'blockNumber': '12686988'}  Sell  \n",
      "99  {'blockNumber': '12686985'}  Sell  \n",
      "\n",
      "[100 rows x 9 columns]\n"
     ]
    }
   ],
   "source": [
    "#Printing DataFrame\n",
    "\n",
    "print(df)"
   ]
  },
  {
   "cell_type": "code",
   "execution_count": 35,
   "metadata": {},
   "outputs": [],
   "source": [
    "#Output to CSV file\n",
    "\n",
    "df.to_csv('out.csv')"
   ]
  }
 ],
 "metadata": {
  "kernelspec": {
   "display_name": "Python 3",
   "language": "python",
   "name": "python3"
  },
  "language_info": {
   "codemirror_mode": {
    "name": "ipython",
    "version": 3
   },
   "file_extension": ".py",
   "mimetype": "text/x-python",
   "name": "python",
   "nbconvert_exporter": "python",
   "pygments_lexer": "ipython3",
   "version": "3.8.2"
  }
 },
 "nbformat": 4,
 "nbformat_minor": 4
}
