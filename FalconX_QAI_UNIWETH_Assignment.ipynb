{
 "cells": [
  {
   "cell_type": "markdown",
   "metadata": {},
   "source": [
    "## FalconX Quantitative Analyst Intern Assignment\n",
    "\n",
    "Description of the notebook:\n"
   ]
  },
  {
   "cell_type": "code",
   "execution_count": 3,
   "metadata": {},
   "outputs": [],
   "source": [
    "# Importing necessary packages\n",
    "\n",
    "import pandas as pd\n",
    "import requests\n",
    "import json"
   ]
  },
  {
   "cell_type": "code",
   "execution_count": 92,
   "metadata": {},
   "outputs": [],
   "source": [
    "#the actual query\n",
    "\n",
    "query = '''query pairs(where:{pair: \"0xd3d2e2692501a5c9ca623199d38826e513033a17\", createdAtTimestamp_gt:1623811430}, orderBy: timestamp, orderDirection: desc, first:150) {\n",
    "    timestamp\n",
    "    amount0In\n",
    "    amount1In\n",
    "    amount0Out\n",
    "    amount1Out\n",
    "    volumeUSD\n",
    "    pair {\n",
    "      token0 {\n",
    "        id\n",
    "        symbol\n",
    "      }\n",
    "      token1 {\n",
    "        id\n",
    "        symbol\n",
    "      }\n",
    "    }\n",
    "    transaction {\n",
    "      blockNumber\n",
    "    }\n",
    "  }\n",
    "}\n",
    "'''"
   ]
  },
  {
   "cell_type": "code",
   "execution_count": 89,
   "metadata": {},
   "outputs": [
    {
     "name": "stdout",
     "output_type": "stream",
     "text": [
      "200\n"
     ]
    }
   ],
   "source": [
    "url = 'https://api.thegraph.com/subgraphs/name/uniswap/uniswap-v2'\n",
    "r = requests.post(url, json={'query': query})\n",
    "print(r.status_code)"
   ]
  },
  {
   "cell_type": "code",
   "execution_count": 90,
   "metadata": {},
   "outputs": [],
   "source": [
    "json_data = json.loads(r.text)"
   ]
  },
  {
   "cell_type": "code",
   "execution_count": 91,
   "metadata": {},
   "outputs": [
    {
     "ename": "KeyError",
     "evalue": "'data'",
     "output_type": "error",
     "traceback": [
      "\u001b[0;31m---------------------------------------------------------------------------\u001b[0m",
      "\u001b[0;31mKeyError\u001b[0m                                  Traceback (most recent call last)",
      "\u001b[0;32m<ipython-input-91-f95bd074d172>\u001b[0m in \u001b[0;36m<module>\u001b[0;34m\u001b[0m\n\u001b[0;32m----> 1\u001b[0;31m \u001b[0mdf_data\u001b[0m \u001b[0;34m=\u001b[0m \u001b[0mjson_data\u001b[0m\u001b[0;34m[\u001b[0m\u001b[0;34m'data'\u001b[0m\u001b[0;34m]\u001b[0m\u001b[0;34m[\u001b[0m\u001b[0;34m'swaps'\u001b[0m\u001b[0;34m]\u001b[0m\u001b[0;34m\u001b[0m\u001b[0;34m\u001b[0m\u001b[0m\n\u001b[0m\u001b[1;32m      2\u001b[0m \u001b[0mdf\u001b[0m \u001b[0;34m=\u001b[0m \u001b[0mpd\u001b[0m\u001b[0;34m.\u001b[0m\u001b[0mDataFrame\u001b[0m\u001b[0;34m(\u001b[0m\u001b[0mdf_data\u001b[0m\u001b[0;34m)\u001b[0m\u001b[0;34m\u001b[0m\u001b[0;34m\u001b[0m\u001b[0m\n",
      "\u001b[0;31mKeyError\u001b[0m: 'data'"
     ]
    }
   ],
   "source": [
    "df_data = json_data['data']['swaps']\n",
    "df = pd.DataFrame(df_data)"
   ]
  },
  {
   "cell_type": "code",
   "execution_count": 86,
   "metadata": {},
   "outputs": [
    {
     "name": "stdout",
     "output_type": "stream",
     "text": [
      "                    amount0In                amount0Out             amount1In  \\\n",
      "0      267.095899385568908838                         0                     0   \n",
      "1                           0    162.110863786908853148  1.284451124157934705   \n",
      "2                         150                         0                     0   \n",
      "3    10583.177473391433994134                         0                     0   \n",
      "4                           0   1888.111489932835460492                    15   \n",
      "..                        ...                       ...                   ...   \n",
      "145                      6000                         0                     0   \n",
      "146                      5000                         0                     0   \n",
      "147     840.94155425828025046                         0                     0   \n",
      "148                         0  47875.318941047200997195                 383.4   \n",
      "149   3422.473253268156619833                         0                     0   \n",
      "\n",
      "                amount1Out                                                 id  \\\n",
      "0     2.103569218942459852  0x91a5b9fd362c62c97fd8655487f910c818441977297f...   \n",
      "1                        0  0x441225f3237818de3a9b141ef2d4fd4c65ddea7f42dc...   \n",
      "2     1.181371027045106434  0x4bc6a75089cc64762c33e8335d5fa827cd2d745ae7fd...   \n",
      "3    83.474268385790605003  0x95b2ecceef63f505f6d23ce4efb5cf09732abea85257...   \n",
      "4                        0  0x978aa495ed8009f44c01fb417ce2719c5b450f9e6ea9...   \n",
      "..                     ...                                                ...   \n",
      "145  47.917202022250862511  0x199dfe7d2fbc66cf1b845ab85794668c3d3dc624ef8c...   \n",
      "146   39.99178222282300526  0xe62548545879d72b4becc296dcadf6e90789479a02dd...   \n",
      "147   6.731582255551132193  0x30f3bb5f5d25bc1037eb564986a91d286160012d48cd...   \n",
      "148                      0  0xf8755f0265a23b094696e627aeda13785df37624bf87...   \n",
      "149  27.412457090823578227  0x3ebbf40c983151ef35ec14b57e29d88d63f0e21fe581...   \n",
      "\n",
      "                                                  pair   timestamp  \\\n",
      "0    {'token0': {'id': '0x1f9840a85d5af5bf1d1762f92...  1602084505   \n",
      "1    {'token0': {'id': '0x1f9840a85d5af5bf1d1762f92...  1602084497   \n",
      "2    {'token0': {'id': '0x1f9840a85d5af5bf1d1762f92...  1602084496   \n",
      "3    {'token0': {'id': '0x1f9840a85d5af5bf1d1762f92...  1602084495   \n",
      "4    {'token0': {'id': '0x1f9840a85d5af5bf1d1762f92...  1602084476   \n",
      "..                                                 ...         ...   \n",
      "145  {'token0': {'id': '0x1f9840a85d5af5bf1d1762f92...  1602079935   \n",
      "146  {'token0': {'id': '0x1f9840a85d5af5bf1d1762f92...  1602079906   \n",
      "147  {'token0': {'id': '0x1f9840a85d5af5bf1d1762f92...  1602079906   \n",
      "148  {'token0': {'id': '0x1f9840a85d5af5bf1d1762f92...  1602079898   \n",
      "149  {'token0': {'id': '0x1f9840a85d5af5bf1d1762f92...  1602079898   \n",
      "\n",
      "                     transaction  \n",
      "0    {'blockNumber': '11009389'}  \n",
      "1    {'blockNumber': '11009388'}  \n",
      "2    {'blockNumber': '11009387'}  \n",
      "3    {'blockNumber': '11009386'}  \n",
      "4    {'blockNumber': '11009385'}  \n",
      "..                           ...  \n",
      "145  {'blockNumber': '11009067'}  \n",
      "146  {'blockNumber': '11009065'}  \n",
      "147  {'blockNumber': '11009065'}  \n",
      "148  {'blockNumber': '11009064'}  \n",
      "149  {'blockNumber': '11009064'}  \n",
      "\n",
      "[150 rows x 8 columns]\n"
     ]
    }
   ],
   "source": [
    "print(df)"
   ]
  },
  {
   "cell_type": "code",
   "execution_count": 87,
   "metadata": {},
   "outputs": [],
   "source": [
    "df.to_csv('out.csv')"
   ]
  },
  {
   "cell_type": "code",
   "execution_count": null,
   "metadata": {},
   "outputs": [],
   "source": []
  }
 ],
 "metadata": {
  "kernelspec": {
   "display_name": "Python 3",
   "language": "python",
   "name": "python3"
  },
  "language_info": {
   "codemirror_mode": {
    "name": "ipython",
    "version": 3
   },
   "file_extension": ".py",
   "mimetype": "text/x-python",
   "name": "python",
   "nbconvert_exporter": "python",
   "pygments_lexer": "ipython3",
   "version": "3.8.2"
  }
 },
 "nbformat": 4,
 "nbformat_minor": 4
}
